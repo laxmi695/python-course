{
 "cells": [
  {
   "cell_type": "markdown",
   "id": "3c22b1c6",
   "metadata": {},
   "source": [
    "### numpy Add function"
   ]
  },
  {
   "cell_type": "code",
   "execution_count": 1,
   "id": "df74aaf0",
   "metadata": {},
   "outputs": [
    {
     "data": {
      "text/plain": [
       "array([ 13,  24, 105, 206, 507])"
      ]
     },
     "execution_count": 1,
     "metadata": {},
     "output_type": "execute_result"
    }
   ],
   "source": [
    "import numpy as np\n",
    "a=np.array([10,20,100,200,500])\n",
    "b=np.array([3,4,5,6,7])\n",
    "np.add(a,b)"
   ]
  },
  {
   "cell_type": "markdown",
   "id": "3b46b095",
   "metadata": {},
   "source": [
    "### Numpy Add operator"
   ]
  },
  {
   "cell_type": "code",
   "execution_count": 3,
   "id": "b0fab27b",
   "metadata": {},
   "outputs": [
    {
     "name": "stdout",
     "output_type": "stream",
     "text": [
      "[ 13  24 105 206 507]\n"
     ]
    }
   ],
   "source": [
    "import numpy as np\n",
    "a=np.array([10,20,100,200,500])\n",
    "b=np.array([3,4,5,6,7])\n",
    "print(a+b)"
   ]
  },
  {
   "cell_type": "markdown",
   "id": "696e4c60",
   "metadata": {},
   "source": [
    "### 2 D Array"
   ]
  },
  {
   "cell_type": "code",
   "execution_count": 6,
   "id": "05b8474a",
   "metadata": {},
   "outputs": [
    {
     "name": "stdout",
     "output_type": "stream",
     "text": [
      "[[1 2 3 4 5]\n",
      " [1 2 3 4 5]]\n",
      "[[ 2  4  6  8 10]\n",
      " [ 2  4  6  8 10]]\n"
     ]
    }
   ],
   "source": [
    "import numpy as np\n",
    "var21=np.array([[1,2,3,4,5],[1,2,3,4,5]])\n",
    "var22=np.array([[1,2,3,4,5],[1,2,3,4,5]])\n",
    "varadd=var21+var22\n",
    "print(var21)\n",
    "print(varadd)               "
   ]
  },
  {
   "cell_type": "markdown",
   "id": "be938840",
   "metadata": {},
   "source": [
    "### 3D Array"
   ]
  },
  {
   "cell_type": "code",
   "execution_count": 1,
   "id": "886335cb",
   "metadata": {},
   "outputs": [
    {
     "name": "stdout",
     "output_type": "stream",
     "text": [
      "[[[2 4 6 8]\n",
      "  [2 4 6 8]\n",
      "  [2 4 6 8]]]\n"
     ]
    }
   ],
   "source": [
    "import numpy as np\n",
    "a=np.array([[[1,2,3,4],[1,2,3,4],[1,2,3,4]]])\n",
    "b=np.array([[[1,2,3,4],[1,2,3,4],[1,2,3,4]]])\n",
    "c=a+b\n",
    "print(c)"
   ]
  },
  {
   "cell_type": "markdown",
   "id": "4e91c63a",
   "metadata": {},
   "source": [
    "### Numpy Sum Function"
   ]
  },
  {
   "cell_type": "code",
   "execution_count": 2,
   "id": "67dd3e25",
   "metadata": {},
   "outputs": [
    {
     "data": {
      "text/plain": [
       "9.0"
      ]
     },
     "execution_count": 2,
     "metadata": {},
     "output_type": "execute_result"
    }
   ],
   "source": [
    "a=np.array([2,4,3],float)\n",
    "a.sum()"
   ]
  },
  {
   "cell_type": "markdown",
   "id": "843bcb08",
   "metadata": {},
   "source": [
    "### Numpy Subtract function"
   ]
  },
  {
   "cell_type": "code",
   "execution_count": 3,
   "id": "034f17f8",
   "metadata": {},
   "outputs": [
    {
     "data": {
      "text/plain": [
       "array([  8,  12,  95, 196, 494])"
      ]
     },
     "execution_count": 3,
     "metadata": {},
     "output_type": "execute_result"
    }
   ],
   "source": [
    "import numpy as np\n",
    "a=np.array([10,20,100,200,500])\n",
    "b=np.array([2,8,5,4,6])\n",
    "np.subtract(a,b)"
   ]
  },
  {
   "cell_type": "markdown",
   "id": "87a33224",
   "metadata": {},
   "source": [
    "### Numpy Subtract Operator"
   ]
  },
  {
   "cell_type": "code",
   "execution_count": 4,
   "id": "7d62ca8e",
   "metadata": {},
   "outputs": [
    {
     "name": "stdout",
     "output_type": "stream",
     "text": [
      "[  8  12  95 196 494]\n"
     ]
    }
   ],
   "source": [
    "import numpy as np\n",
    "a=np.array([10,20,100,200,500])\n",
    "b=np.array([2,8,5,4,6])\n",
    "print(a-b)"
   ]
  },
  {
   "cell_type": "markdown",
   "id": "39b3b89a",
   "metadata": {},
   "source": [
    "### 2D:"
   ]
  },
  {
   "cell_type": "code",
   "execution_count": 5,
   "id": "46142366",
   "metadata": {},
   "outputs": [
    {
     "name": "stdout",
     "output_type": "stream",
     "text": [
      "[3 3 3 3]\n"
     ]
    }
   ],
   "source": [
    "import numpy as np\n",
    "var3=np.array([4,5,6,7])\n",
    "var4=np.array([1,2,3,4])\n",
    "varsub=np.subtract(var3,var4)\n",
    "print(varsub)"
   ]
  },
  {
   "cell_type": "markdown",
   "id": "4d931af0",
   "metadata": {},
   "source": [
    "### 3D:"
   ]
  },
  {
   "cell_type": "code",
   "execution_count": 7,
   "id": "4eebfb90",
   "metadata": {},
   "outputs": [
    {
     "name": "stdout",
     "output_type": "stream",
     "text": [
      "[[[2 3 4 5]\n",
      "  [3 2 1 0]\n",
      "  [4 3 2 1]]]\n"
     ]
    }
   ],
   "source": [
    "import numpy as np\n",
    "var=np.array([[[6,7,8,9],[7,6,5,4],[8,7,6,5]]])\n",
    "varsub=var-4\n",
    "print(varsub)"
   ]
  },
  {
   "cell_type": "markdown",
   "id": "58ea9849",
   "metadata": {},
   "source": [
    "### Numpy Multiply function"
   ]
  },
  {
   "cell_type": "code",
   "execution_count": 9,
   "id": "c109fb1a",
   "metadata": {},
   "outputs": [
    {
     "data": {
      "text/plain": [
       "array([35, 24, 12, 20,  6])"
      ]
     },
     "execution_count": 9,
     "metadata": {},
     "output_type": "execute_result"
    }
   ],
   "source": [
    "import numpy as np\n",
    "a=np.array([7,3,4,5,1])\n",
    "b=np.array([5,8,3,4,6,])\n",
    "np.multiply(a,b)"
   ]
  },
  {
   "cell_type": "markdown",
   "id": "d2d9a791",
   "metadata": {},
   "source": [
    "### 2D:"
   ]
  },
  {
   "cell_type": "code",
   "execution_count": 12,
   "id": "44663e0c",
   "metadata": {},
   "outputs": [
    {
     "name": "stdout",
     "output_type": "stream",
     "text": [
      "[25  6 12 42]\n"
     ]
    }
   ],
   "source": [
    "import numpy as np\n",
    "var5=np.array([5,3,4,6])\n",
    "var6=np.array([5,2,3,7])\n",
    "varmul=np.multiply(var5,var6)\n",
    "print(varmul)"
   ]
  },
  {
   "cell_type": "markdown",
   "id": "408c0180",
   "metadata": {},
   "source": [
    "### Numpy product function"
   ]
  },
  {
   "cell_type": "code",
   "execution_count": 14,
   "id": "aa8df539",
   "metadata": {},
   "outputs": [
    {
     "data": {
      "text/plain": [
       "192.0"
      ]
     },
     "execution_count": 14,
     "metadata": {},
     "output_type": "execute_result"
    }
   ],
   "source": [
    "a=np.array([4,8,6],float)\n",
    "a.prod()"
   ]
  },
  {
   "cell_type": "markdown",
   "id": "9be2f078",
   "metadata": {},
   "source": [
    "### numpy Divide Operator"
   ]
  },
  {
   "cell_type": "code",
   "execution_count": 16,
   "id": "b9673361",
   "metadata": {},
   "outputs": [
    {
     "name": "stdout",
     "output_type": "stream",
     "text": [
      "[0.14285714 0.83333333 0.8        0.75       2.33333333]\n"
     ]
    }
   ],
   "source": [
    "import numpy as np\n",
    "a=np.array([1,5,4,3,7])\n",
    "b=np.array([7,6,5,4,3])\n",
    "print(a/b)"
   ]
  },
  {
   "cell_type": "markdown",
   "id": "e6f44df6",
   "metadata": {},
   "source": [
    "### 2D:"
   ]
  },
  {
   "cell_type": "code",
   "execution_count": 19,
   "id": "d8fe7948",
   "metadata": {},
   "outputs": [
    {
     "name": "stdout",
     "output_type": "stream",
     "text": [
      "[2.5 3.  3.5 2.5]\n"
     ]
    }
   ],
   "source": [
    "import numpy as np\n",
    "var7=np.array([5,6,7,5])\n",
    "var8=np.array([2,2,2,2])\n",
    "vardiv=np.divide(var7,var8)\n",
    "print(vardiv)"
   ]
  },
  {
   "cell_type": "markdown",
   "id": "e2b65a1c",
   "metadata": {},
   "source": [
    "### 3D:"
   ]
  },
  {
   "cell_type": "code",
   "execution_count": 21,
   "id": "3ee8337c",
   "metadata": {},
   "outputs": [
    {
     "name": "stdout",
     "output_type": "stream",
     "text": [
      "[[[3.  3.5 4.  4.5]\n",
      "  [3.5 3.  2.5 2. ]\n",
      "  [4.  3.5 3.  2.5]]]\n"
     ]
    }
   ],
   "source": [
    "import numpy as np\n",
    "var=np.array([[[6,7,8,9],[7,6,5,4],[8,7,6,5]]])\n",
    "vardiv=var/2\n",
    "print(vardiv)"
   ]
  },
  {
   "cell_type": "markdown",
   "id": "ca83b93e",
   "metadata": {},
   "source": [
    "### Numpy Mod operator and Remainder function"
   ]
  },
  {
   "cell_type": "markdown",
   "id": "173b18ae",
   "metadata": {},
   "source": [
    "### Numpy Reminder function"
   ]
  },
  {
   "cell_type": "code",
   "execution_count": 22,
   "id": "6d3316e0",
   "metadata": {},
   "outputs": [
    {
     "data": {
      "text/plain": [
       "array([1, 5, 4, 3, 1])"
      ]
     },
     "execution_count": 22,
     "metadata": {},
     "output_type": "execute_result"
    }
   ],
   "source": [
    "import numpy as np\n",
    "a=np.array([1,5,4,3,7])\n",
    "b=np.array([7,6,5,4,3])\n",
    "np.remainder(a,b)"
   ]
  },
  {
   "cell_type": "markdown",
   "id": "dfc5bd24",
   "metadata": {},
   "source": [
    "### 1D:"
   ]
  },
  {
   "cell_type": "code",
   "execution_count": 1,
   "id": "d99a281f",
   "metadata": {},
   "outputs": [
    {
     "name": "stdout",
     "output_type": "stream",
     "text": [
      "[0 1 0 1]\n"
     ]
    }
   ],
   "source": [
    "import numpy as np\n",
    "var=np.array([6,5,4,3])\n",
    "varmod=var%2\n",
    "print(varmod)"
   ]
  },
  {
   "cell_type": "markdown",
   "id": "541a7d9b",
   "metadata": {},
   "source": [
    "### 2D:"
   ]
  },
  {
   "cell_type": "code",
   "execution_count": 2,
   "id": "721b7c04",
   "metadata": {},
   "outputs": [
    {
     "name": "stdout",
     "output_type": "stream",
     "text": [
      "[1 1 1 1]\n"
     ]
    }
   ],
   "source": [
    "import numpy as np\n",
    "var9=np.array([6,5,4,3])\n",
    "var1=np.array([5,4,3,2])\n",
    "varmod=np.mod(var9,var1)\n",
    "print(varmod)"
   ]
  },
  {
   "cell_type": "markdown",
   "id": "717ebcc6",
   "metadata": {},
   "source": [
    "### 3D:"
   ]
  },
  {
   "cell_type": "code",
   "execution_count": 4,
   "id": "edacdd68",
   "metadata": {},
   "outputs": [
    {
     "name": "stdout",
     "output_type": "stream",
     "text": [
      "[[0 1 0 1]\n",
      " [0 0 1 1]\n",
      " [0 0 0 0]]\n"
     ]
    }
   ],
   "source": [
    "import numpy as np\n",
    "var=np.array([[6,5,4,3],[4,8,7,5],[6,4,2,8]])\n",
    "varmod=var%2\n",
    "print(varmod)"
   ]
  },
  {
   "cell_type": "markdown",
   "id": "af63af50",
   "metadata": {},
   "source": [
    "### Numpy power function"
   ]
  },
  {
   "cell_type": "code",
   "execution_count": 1,
   "id": "7c71a1cc",
   "metadata": {},
   "outputs": [
    {
     "data": {
      "text/plain": [
       "array([  343,    81,  1024, 15625,     1])"
      ]
     },
     "execution_count": 1,
     "metadata": {},
     "output_type": "execute_result"
    }
   ],
   "source": [
    "import numpy as np\n",
    "a=np.array([7,3,4,5,1])\n",
    "b=np.array([3,4,5,6,7])\n",
    "np.power(a,b)"
   ]
  },
  {
   "cell_type": "markdown",
   "id": "e07db833",
   "metadata": {},
   "source": [
    "### 3D:"
   ]
  },
  {
   "cell_type": "code",
   "execution_count": 2,
   "id": "b80aef1b",
   "metadata": {},
   "outputs": [
    {
     "name": "stdout",
     "output_type": "stream",
     "text": [
      "[[[16  9  4 25]\n",
      "  [16  4  9 25]\n",
      "  [ 1  4  9 16]]]\n"
     ]
    }
   ],
   "source": [
    "import numpy as np\n",
    "var=np.array([[[4,3,2,5],[4,2,3,5],[1,2,3,4]]])\n",
    "varpower=var**2\n",
    "print(varpower)"
   ]
  },
  {
   "cell_type": "markdown",
   "id": "50270295",
   "metadata": {},
   "source": [
    "### Numpy Reciprocal function"
   ]
  },
  {
   "cell_type": "code",
   "execution_count": 3,
   "id": "a3169d80",
   "metadata": {},
   "outputs": [
    {
     "data": {
      "text/plain": [
       "array([0, 0, 0, 0, 1])"
      ]
     },
     "execution_count": 3,
     "metadata": {},
     "output_type": "execute_result"
    }
   ],
   "source": [
    "import numpy as np\n",
    "a=np.array([7,3,4,5,1])\n",
    "np.reciprocal(a)"
   ]
  },
  {
   "cell_type": "markdown",
   "id": "ffb5e809",
   "metadata": {},
   "source": [
    "## 2D:"
   ]
  },
  {
   "cell_type": "code",
   "execution_count": 4,
   "id": "6d6df4c3",
   "metadata": {},
   "outputs": [
    {
     "name": "stdout",
     "output_type": "stream",
     "text": [
      "[1 0 0 0 0]\n",
      "[0 0 0 0 1]\n"
     ]
    }
   ],
   "source": [
    "import numpy as np\n",
    "var5=np.array([1,5,4,3,7])\n",
    "var4=np.array([2,3,4,5,1])\n",
    "varreciprocal=np.reciprocal(var5)\n",
    "print(varreciprocal)\n",
    "varreciprocal=np.reciprocal(var4)\n",
    "print(varreciprocal)"
   ]
  },
  {
   "cell_type": "markdown",
   "id": "7dde2c87",
   "metadata": {},
   "source": [
    "### 3D:"
   ]
  },
  {
   "cell_type": "code",
   "execution_count": 5,
   "id": "72d5d0c1",
   "metadata": {},
   "outputs": [
    {
     "name": "stdout",
     "output_type": "stream",
     "text": [
      "[[[0 0 0 0]\n",
      "  [0 1 0 0]\n",
      "  [0 0 0 0]]]\n"
     ]
    }
   ],
   "source": [
    "import numpy as np\n",
    "var=np.array([[[42,32,22,25],[11,1,43,24],[19,28,37,66]]])\n",
    "varreciprocal=np.reciprocal(var)\n",
    "print(varreciprocal)"
   ]
  },
  {
   "cell_type": "code",
   "execution_count": null,
   "id": "ffd7c20a",
   "metadata": {},
   "outputs": [],
   "source": []
  }
 ],
 "metadata": {
  "kernelspec": {
   "display_name": "Python 3 (ipykernel)",
   "language": "python",
   "name": "python3"
  },
  "language_info": {
   "codemirror_mode": {
    "name": "ipython",
    "version": 3
   },
   "file_extension": ".py",
   "mimetype": "text/x-python",
   "name": "python",
   "nbconvert_exporter": "python",
   "pygments_lexer": "ipython3",
   "version": "3.11.4"
  }
 },
 "nbformat": 4,
 "nbformat_minor": 5
}
